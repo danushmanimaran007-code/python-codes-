{
 "cells": [
  {
   "cell_type": "markdown",
   "id": "d9a8714a-9da4-4896-a20b-ee7b818898b7",
   "metadata": {},
   "source": [
    "# python essential 3"
   ]
  },
  {
   "cell_type": "markdown",
   "id": "e7624551-03ca-40eb-aef7-7934b760b4f9",
   "metadata": {},
   "source": [
    "# function"
   ]
  },
  {
   "cell_type": "code",
   "execution_count": 1,
   "id": "1d2e5db3-499c-4361-9b62-23a7fa3a2055",
   "metadata": {},
   "outputs": [
    {
     "name": "stdout",
     "output_type": "stream",
     "text": [
      "30\n"
     ]
    }
   ],
   "source": [
    "a=10\n",
    "b=20\n",
    "c=a+b\n",
    "print(c)"
   ]
  },
  {
   "cell_type": "code",
   "execution_count": 5,
   "id": "2536b585-79a8-4516-8efc-0c9ec832e8b1",
   "metadata": {},
   "outputs": [],
   "source": [
    "def data(a,b):\n",
    "    c=a+b\n",
    "    print(c)"
   ]
  },
  {
   "cell_type": "code",
   "execution_count": 6,
   "id": "afa30431-5b17-4ac1-8c53-b50b233feae5",
   "metadata": {},
   "outputs": [
    {
     "name": "stdout",
     "output_type": "stream",
     "text": [
      "30\n"
     ]
    }
   ],
   "source": [
    "data(10,20)"
   ]
  },
  {
   "cell_type": "code",
   "execution_count": 7,
   "id": "4fa5a7b2-1471-4fb0-9fd3-913d334710a5",
   "metadata": {},
   "outputs": [
    {
     "name": "stdout",
     "output_type": "stream",
     "text": [
      "300\n"
     ]
    }
   ],
   "source": [
    "data(100,200)"
   ]
  },
  {
   "cell_type": "code",
   "execution_count": 8,
   "id": "f105ebbb-9450-4a1a-a2a4-0c80fe36d336",
   "metadata": {},
   "outputs": [
    {
     "name": "stdout",
     "output_type": "stream",
     "text": [
      "3\n",
      "9\n"
     ]
    }
   ],
   "source": [
    "data(1,2)\n",
    "data(2,7)"
   ]
  },
  {
   "cell_type": "code",
   "execution_count": 19,
   "id": "bf1f970e-eeee-403f-8f23-a7d5f9eb14ea",
   "metadata": {},
   "outputs": [],
   "source": [
    "def areaofcircle(r):\n",
    "    area=3.141*r*r\n",
    "    print(area)\n",
    "    "
   ]
  },
  {
   "cell_type": "code",
   "execution_count": 20,
   "id": "2689845f-1798-4eca-a2e6-1a33e019f952",
   "metadata": {},
   "outputs": [
    {
     "name": "stdout",
     "output_type": "stream",
     "text": [
      "28.269\n"
     ]
    }
   ],
   "source": [
    "areaofcircle(3)"
   ]
  },
  {
   "cell_type": "code",
   "execution_count": 21,
   "id": "e97145ec-b535-4608-aa68-5b0f4de9e0f7",
   "metadata": {},
   "outputs": [],
   "source": [
    "def details(name,street,area):\n",
    "    print('name  :-', name)\n",
    "    print('street:-', street)\n",
    "    print('area:-', area)"
   ]
  },
  {
   "cell_type": "code",
   "execution_count": 22,
   "id": "b91d573e-5973-45b2-9b2b-eda0b56d52f1",
   "metadata": {},
   "outputs": [
    {
     "name": "stdout",
     "output_type": "stream",
     "text": [
      "name  :- danyy\n",
      "street:- KG layout\n",
      "area:- saibaba colony\n",
      "name  :- mark\n",
      "street:- KG layout\n",
      "area:- saibaba colony\n",
      "name  :- ram\n",
      "street:- KG layout\n",
      "area:- saibaba colony\n"
     ]
    }
   ],
   "source": [
    "details('danyy','KG layout','saibaba colony')\n",
    "details('mark','KG layout','saibaba colony')\n",
    "details('ram','KG layout','saibaba colony')"
   ]
  },
  {
   "cell_type": "code",
   "execution_count": 27,
   "id": "2d2fae4d-ba07-4435-b3c3-c53b946025e0",
   "metadata": {},
   "outputs": [
    {
     "name": "stdout",
     "output_type": "stream",
     "text": [
      "even\n"
     ]
    }
   ],
   "source": [
    "x=100\n",
    "if x%2==0:\n",
    "    print(\"even\")\n",
    "else:\n",
    "    print(\"odd\")"
   ]
  },
  {
   "cell_type": "code",
   "execution_count": 32,
   "id": "34dc5c36-4d3a-4cca-9513-308985f72850",
   "metadata": {},
   "outputs": [],
   "source": [
    "def evenorodd():\n",
    "    x=int(input(\"even\"))\n",
    "    if x%2==0:\n",
    "        print(\"even\")\n",
    "    else:\n",
    "        print(\"odd\")"
   ]
  },
  {
   "cell_type": "code",
   "execution_count": 33,
   "id": "d7b13c23-b43d-49b0-bced-8d50d10fe0a7",
   "metadata": {},
   "outputs": [
    {
     "name": "stdin",
     "output_type": "stream",
     "text": [
      "even 100\n"
     ]
    },
    {
     "name": "stdout",
     "output_type": "stream",
     "text": [
      "even\n"
     ]
    }
   ],
   "source": [
    "evenorodd()"
   ]
  },
  {
   "cell_type": "code",
   "execution_count": 34,
   "id": "f9fe33b1-da45-4680-a08e-c9e5e7980b46",
   "metadata": {},
   "outputs": [],
   "source": [
    "def areaofrectangle(l,b):\n",
    "    area=l*b\n",
    "    print(area)"
   ]
  },
  {
   "cell_type": "code",
   "execution_count": 36,
   "id": "d686f471-4f6a-4133-b6ec-872f2fe44b16",
   "metadata": {},
   "outputs": [
    {
     "name": "stdout",
     "output_type": "stream",
     "text": [
      "8\n"
     ]
    }
   ],
   "source": [
    "areaofrectangle(2,4)"
   ]
  },
  {
   "cell_type": "code",
   "execution_count": 37,
   "id": "e6143cce-d37b-47e6-9d15-0256f978adab",
   "metadata": {},
   "outputs": [],
   "source": [
    "def areaofrectangle(l,b):\n",
    "    area=l*b\n",
    "    print(area)"
   ]
  },
  {
   "cell_type": "code",
   "execution_count": 38,
   "id": "d90719b9-5d04-4b6c-a76a-0ffc24f3a68c",
   "metadata": {},
   "outputs": [
    {
     "name": "stdout",
     "output_type": "stream",
     "text": [
      "20\n"
     ]
    }
   ],
   "source": [
    "areaofrectangle(2,10)"
   ]
  },
  {
   "cell_type": "code",
   "execution_count": 39,
   "id": "63fcd434-6ea9-4963-bbaa-32053f88c5a3",
   "metadata": {},
   "outputs": [
    {
     "name": "stdout",
     "output_type": "stream",
     "text": [
      "20\n"
     ]
    }
   ],
   "source": [
    "x=areaofrectangle(2,10)"
   ]
  },
  {
   "cell_type": "code",
   "execution_count": 40,
   "id": "6072ad15-98df-47de-abc1-917f384d73d9",
   "metadata": {},
   "outputs": [
    {
     "name": "stdout",
     "output_type": "stream",
     "text": [
      "None\n"
     ]
    }
   ],
   "source": [
    "print(x)"
   ]
  },
  {
   "cell_type": "code",
   "execution_count": 41,
   "id": "a872fbdc-5728-4951-adc5-69b546eb2080",
   "metadata": {},
   "outputs": [],
   "source": [
    "def areaofrectangle(l,b):\n",
    "    area=l*b\n",
    "   # print(area)\n",
    "    return area"
   ]
  },
  {
   "cell_type": "code",
   "execution_count": 42,
   "id": "488e3063-1d87-459b-badc-57d1f5339553",
   "metadata": {},
   "outputs": [],
   "source": [
    "x=areaofrectangle(2,10)"
   ]
  },
  {
   "cell_type": "code",
   "execution_count": 43,
   "id": "2d41db9d-d82e-46d5-bdb4-e8f5633efe95",
   "metadata": {},
   "outputs": [
    {
     "data": {
      "text/plain": [
       "20"
      ]
     },
     "execution_count": 43,
     "metadata": {},
     "output_type": "execute_result"
    }
   ],
   "source": [
    "areaofrectangle(2,10)"
   ]
  },
  {
   "cell_type": "code",
   "execution_count": 44,
   "id": "071028e6-b390-4823-8c98-4a342b41b509",
   "metadata": {},
   "outputs": [
    {
     "name": "stdout",
     "output_type": "stream",
     "text": [
      "20\n"
     ]
    }
   ],
   "source": [
    "print(x)"
   ]
  },
  {
   "cell_type": "markdown",
   "id": "0320c607-44bb-4bd2-b44b-5159260bf726",
   "metadata": {},
   "source": [
    "# lambda (one line function)"
   ]
  },
  {
   "cell_type": "code",
   "execution_count": 46,
   "id": "30e4fa58-964f-4bb9-8305-350217807f99",
   "metadata": {},
   "outputs": [],
   "source": [
    "q=lambda a,b:a+b"
   ]
  },
  {
   "cell_type": "code",
   "execution_count": 47,
   "id": "0c02e655-7c21-4292-8eee-49c365d5d3cd",
   "metadata": {},
   "outputs": [
    {
     "data": {
      "text/plain": [
       "30"
      ]
     },
     "execution_count": 47,
     "metadata": {},
     "output_type": "execute_result"
    }
   ],
   "source": [
    "q(10,20)"
   ]
  },
  {
   "cell_type": "code",
   "execution_count": 49,
   "id": "9a2d40d2-1442-4ac6-af36-ca96eb90ddf3",
   "metadata": {},
   "outputs": [
    {
     "name": "stdout",
     "output_type": "stream",
     "text": [
      "300\n",
      "3\n"
     ]
    }
   ],
   "source": [
    "print(q(100,200))\n",
    "print(q(1,2))"
   ]
  },
  {
   "cell_type": "code",
   "execution_count": 50,
   "id": "d43ddc7b-df6b-4480-9a5a-11347e3bd479",
   "metadata": {},
   "outputs": [],
   "source": [
    "w=lambda a,b,c:a+b+c"
   ]
  },
  {
   "cell_type": "code",
   "execution_count": 51,
   "id": "8a3ea964-c41a-480b-8f70-4465e36d7048",
   "metadata": {},
   "outputs": [
    {
     "data": {
      "text/plain": [
       "60"
      ]
     },
     "execution_count": 51,
     "metadata": {},
     "output_type": "execute_result"
    }
   ],
   "source": [
    "w(10,20,30)"
   ]
  },
  {
   "cell_type": "code",
   "execution_count": 52,
   "id": "a0ac3323-bcec-4a12-b093-57f5e694e053",
   "metadata": {},
   "outputs": [],
   "source": [
    "def addition(n):\n",
    "    return n + n"
   ]
  },
  {
   "cell_type": "code",
   "execution_count": 53,
   "id": "839c9c7e-5f53-43af-b316-f51f0856778c",
   "metadata": {},
   "outputs": [
    {
     "data": {
      "text/plain": [
       "20"
      ]
     },
     "execution_count": 53,
     "metadata": {},
     "output_type": "execute_result"
    }
   ],
   "source": [
    "addition(10)"
   ]
  },
  {
   "cell_type": "markdown",
   "id": "11c6d2eb-5d8e-45a6-a8ee-9566ee1c78a1",
   "metadata": {},
   "source": [
    "# map (function , sequence)"
   ]
  },
  {
   "cell_type": "code",
   "execution_count": 54,
   "id": "8eb0026b-9b77-4df2-b88c-c23b36690c4e",
   "metadata": {},
   "outputs": [],
   "source": [
    "numbers = (1,2,3,4)"
   ]
  },
  {
   "cell_type": "code",
   "execution_count": 55,
   "id": "acc3a02c-6445-4b12-beac-a4b95d3585af",
   "metadata": {},
   "outputs": [
    {
     "data": {
      "text/plain": [
       "<map at 0x22151e59e70>"
      ]
     },
     "execution_count": 55,
     "metadata": {},
     "output_type": "execute_result"
    }
   ],
   "source": [
    "map(addition,numbers)"
   ]
  },
  {
   "cell_type": "code",
   "execution_count": 56,
   "id": "0ed70da3-6d72-4e60-b5ed-229198698bf7",
   "metadata": {},
   "outputs": [
    {
     "data": {
      "text/plain": [
       "[2, 4, 6, 8]"
      ]
     },
     "execution_count": 56,
     "metadata": {},
     "output_type": "execute_result"
    }
   ],
   "source": [
    "list(map(addition,numbers))"
   ]
  },
  {
   "cell_type": "code",
   "execution_count": 57,
   "id": "cfc03dc4-3820-4df7-b989-81b1c2ffd29b",
   "metadata": {},
   "outputs": [
    {
     "data": {
      "text/plain": [
       "(2, 4, 6, 8)"
      ]
     },
     "execution_count": 57,
     "metadata": {},
     "output_type": "execute_result"
    }
   ],
   "source": [
    "tuple(map(addition,numbers))"
   ]
  },
  {
   "cell_type": "code",
   "execution_count": 58,
   "id": "7816e9c1-643e-4a95-ab85-98890903c0a5",
   "metadata": {},
   "outputs": [
    {
     "data": {
      "text/plain": [
       "[2, 4, 6, 8]"
      ]
     },
     "execution_count": 58,
     "metadata": {},
     "output_type": "execute_result"
    }
   ],
   "source": [
    "list(map(lambda n:n+n,numbers))"
   ]
  },
  {
   "cell_type": "markdown",
   "id": "ba09c669-245f-4438-be5b-a3244f76e62c",
   "metadata": {},
   "source": [
    "# filter (function sequence)"
   ]
  },
  {
   "cell_type": "code",
   "execution_count": 59,
   "id": "ebdcad91-f392-473e-81fe-e9235bd407a2",
   "metadata": {},
   "outputs": [],
   "source": [
    "seq = [0,1,2,3,5,8,13]"
   ]
  },
  {
   "cell_type": "code",
   "execution_count": 60,
   "id": "62634837-4727-4bda-b9c1-4e83f4558aa9",
   "metadata": {},
   "outputs": [
    {
     "data": {
      "text/plain": [
       "<map at 0x22151e4fc70>"
      ]
     },
     "execution_count": 60,
     "metadata": {},
     "output_type": "execute_result"
    }
   ],
   "source": [
    "map(lambda x:x%2==0,seq)"
   ]
  },
  {
   "cell_type": "code",
   "execution_count": 61,
   "id": "2fc78ff6-9907-4741-a85c-2394138edbdf",
   "metadata": {},
   "outputs": [
    {
     "data": {
      "text/plain": [
       "[True, False, True, False, False, True, False]"
      ]
     },
     "execution_count": 61,
     "metadata": {},
     "output_type": "execute_result"
    }
   ],
   "source": [
    "list(map(lambda x:x%2==0,seq))"
   ]
  },
  {
   "cell_type": "code",
   "execution_count": 63,
   "id": "ee192d20-7298-42b6-8225-18ec2eaf8ecb",
   "metadata": {},
   "outputs": [
    {
     "data": {
      "text/plain": [
       "[0, 2, 8]"
      ]
     },
     "execution_count": 63,
     "metadata": {},
     "output_type": "execute_result"
    }
   ],
   "source": [
    "list(filter(lambda x:x%2==0,seq))"
   ]
  },
  {
   "cell_type": "markdown",
   "id": "8720147a-c228-4084-b580-d9e18471196c",
   "metadata": {},
   "source": [
    "# FOR LOOP"
   ]
  },
  {
   "cell_type": "code",
   "execution_count": 1,
   "id": "328be68a-6916-4fff-aab9-52bff749cd7d",
   "metadata": {},
   "outputs": [
    {
     "data": {
      "text/plain": [
       "range(0, 10)"
      ]
     },
     "execution_count": 1,
     "metadata": {},
     "output_type": "execute_result"
    }
   ],
   "source": [
    "range(10)"
   ]
  },
  {
   "cell_type": "code",
   "execution_count": 2,
   "id": "91ce3f30-35f8-4782-9e99-2553c82ec6e9",
   "metadata": {},
   "outputs": [
    {
     "data": {
      "text/plain": [
       "[0, 1, 2, 3, 4, 5, 6, 7, 8, 9]"
      ]
     },
     "execution_count": 2,
     "metadata": {},
     "output_type": "execute_result"
    }
   ],
   "source": [
    "list(range(10))"
   ]
  },
  {
   "cell_type": "code",
   "execution_count": 3,
   "id": "e4bd5c7e-7aef-4879-a346-86c6838f6161",
   "metadata": {},
   "outputs": [
    {
     "data": {
      "text/plain": [
       "[1, 2, 3, 4, 5, 6, 7, 8, 9]"
      ]
     },
     "execution_count": 3,
     "metadata": {},
     "output_type": "execute_result"
    }
   ],
   "source": [
    "list(range(1,10))"
   ]
  },
  {
   "cell_type": "code",
   "execution_count": 4,
   "id": "f241bb35-4107-4106-b465-1991e65338be",
   "metadata": {},
   "outputs": [
    {
     "data": {
      "text/plain": [
       "[1, 3, 5, 7, 9]"
      ]
     },
     "execution_count": 4,
     "metadata": {},
     "output_type": "execute_result"
    }
   ],
   "source": [
    "list(range(1,10,2))"
   ]
  },
  {
   "cell_type": "code",
   "execution_count": 5,
   "id": "ca4d0021-c72c-4ded-8fb4-f5d7f2ceffe5",
   "metadata": {
    "scrolled": true
   },
   "outputs": [
    {
     "data": {
      "text/plain": [
       "[0, 2, 4, 6, 8]"
      ]
     },
     "execution_count": 5,
     "metadata": {},
     "output_type": "execute_result"
    }
   ],
   "source": [
    "list(range(0,10,2))"
   ]
  },
  {
   "cell_type": "code",
   "execution_count": 6,
   "id": "bc8124b9-b775-4bea-ad41-2b9cf49f262b",
   "metadata": {},
   "outputs": [
    {
     "name": "stdout",
     "output_type": "stream",
     "text": [
      "0\n",
      "1\n",
      "2\n",
      "3\n",
      "4\n",
      "5\n",
      "6\n",
      "7\n",
      "8\n",
      "9\n"
     ]
    }
   ],
   "source": [
    "for i in range(10):\n",
    "    print (i)                                                 "
   ]
  },
  {
   "cell_type": "code",
   "execution_count": 8,
   "id": "111004f2-4215-40ea-8267-f9b4c255edba",
   "metadata": {},
   "outputs": [
    {
     "name": "stdout",
     "output_type": "stream",
     "text": [
      "0 1 2 3 4 5 6 7 8 9 "
     ]
    }
   ],
   "source": [
    "for i in range(10):\n",
    "    print (i,end=\" \")"
   ]
  },
  {
   "cell_type": "code",
   "execution_count": 9,
   "id": "b0a0973f-c9c6-478b-9360-6e2e2910394f",
   "metadata": {},
   "outputs": [
    {
     "name": "stdout",
     "output_type": "stream",
     "text": [
      "1\n",
      "2\n",
      "3\n",
      "4\n",
      "5\n",
      "6\n"
     ]
    }
   ],
   "source": [
    "for i in [1,2,3,4,5,6]:\n",
    "    print(i)"
   ]
  },
  {
   "cell_type": "code",
   "execution_count": 10,
   "id": "688b5cb4-ad7e-4fb5-b114-67d0c810099a",
   "metadata": {},
   "outputs": [
    {
     "name": "stdout",
     "output_type": "stream",
     "text": [
      "Red\n",
      "blue\n",
      "green\n"
     ]
    }
   ],
   "source": [
    "for i in [\"Red\",\"blue\",\"green\"]:\n",
    "    print (i)"
   ]
  },
  {
   "cell_type": "code",
   "execution_count": 12,
   "id": "151548f9-bc6b-4378-86e9-089c424803ee",
   "metadata": {},
   "outputs": [
    {
     "name": "stdout",
     "output_type": "stream",
     "text": [
      "Red\n",
      "blue\n",
      "green\n"
     ]
    }
   ],
   "source": [
    "y=[\"Red\",\"blue\",\"green\"]                                      # first option \n",
    "for i in y:\n",
    "    print (i)"
   ]
  },
  {
   "cell_type": "code",
   "execution_count": 13,
   "id": "42b52a55-7e29-4949-bb63-9dcdfd6cf2ec",
   "metadata": {},
   "outputs": [
    {
     "name": "stdout",
     "output_type": "stream",
     "text": [
      "['Red', 'blue', 'green']\n",
      "['Red', 'blue', 'green']\n",
      "['Red', 'blue', 'green']\n"
     ]
    }
   ],
   "source": [
    "y=[\"Red\",\"blue\",\"green\"]                                       # second option \n",
    "for i in y:\n",
    "    print (y)"
   ]
  },
  {
   "cell_type": "code",
   "execution_count": 14,
   "id": "89436da1-3b39-4745-bbaa-f299d6e077b5",
   "metadata": {},
   "outputs": [
    {
     "name": "stdout",
     "output_type": "stream",
     "text": [
      "coimbatore\n",
      "coimbatore\n",
      "coimbatore\n"
     ]
    }
   ],
   "source": [
    "y=[\"Red\",\"blue\",\"green\"]                                         #third option\n",
    "for i in y:\n",
    "    print (\"coimbatore\")"
   ]
  },
  {
   "cell_type": "code",
   "execution_count": 15,
   "id": "5a2afa87-3e35-4d88-a493-b0a0b5374b12",
   "metadata": {},
   "outputs": [
    {
     "name": "stdout",
     "output_type": "stream",
     "text": [
      "T\n",
      "h\n",
      "i\n",
      "s\n",
      " \n",
      "i\n",
      "s\n",
      " \n",
      "d\n",
      "a\n",
      "t\n",
      "a\n",
      " \n",
      "s\n",
      "c\n",
      "i\n",
      "e\n",
      "n\n",
      "c\n",
      "e\n",
      " \n",
      "c\n",
      "o\n",
      "u\n",
      "r\n",
      "s\n",
      "e\n"
     ]
    }
   ],
   "source": [
    "s='This is data science course'\n",
    "for i in s:\n",
    "    print(i)"
   ]
  },
  {
   "cell_type": "code",
   "execution_count": 16,
   "id": "c62ae50e-3357-4a2c-a6ad-2da2ccc83dde",
   "metadata": {},
   "outputs": [
    {
     "name": "stdout",
     "output_type": "stream",
     "text": [
      "This is data science course\n",
      "This is data science course\n",
      "This is data science course\n",
      "This is data science course\n",
      "This is data science course\n",
      "This is data science course\n",
      "This is data science course\n",
      "This is data science course\n",
      "This is data science course\n",
      "This is data science course\n",
      "This is data science course\n",
      "This is data science course\n",
      "This is data science course\n",
      "This is data science course\n",
      "This is data science course\n",
      "This is data science course\n",
      "This is data science course\n",
      "This is data science course\n",
      "This is data science course\n",
      "This is data science course\n",
      "This is data science course\n",
      "This is data science course\n",
      "This is data science course\n",
      "This is data science course\n",
      "This is data science course\n",
      "This is data science course\n",
      "This is data science course\n"
     ]
    }
   ],
   "source": [
    "s='This is data science course'\n",
    "for i in s:\n",
    "    print(s)"
   ]
  },
  {
   "cell_type": "code",
   "execution_count": 17,
   "id": "fb9a4818-9065-4238-8663-fb689dc0e42b",
   "metadata": {},
   "outputs": [
    {
     "name": "stdout",
     "output_type": "stream",
     "text": [
      "data\n",
      "data\n",
      "data\n",
      "data\n",
      "data\n",
      "data\n",
      "data\n",
      "data\n",
      "data\n",
      "data\n",
      "data\n",
      "data\n",
      "data\n",
      "data\n",
      "data\n",
      "data\n",
      "data\n",
      "data\n",
      "data\n",
      "data\n",
      "data\n",
      "data\n",
      "data\n",
      "data\n",
      "data\n",
      "data\n",
      "data\n"
     ]
    }
   ],
   "source": [
    "s='This is data science course'\n",
    "for i in s:\n",
    "    print('data')"
   ]
  },
  {
   "cell_type": "code",
   "execution_count": 19,
   "id": "27b91d22-1790-44b4-a42e-b419b754c7b7",
   "metadata": {},
   "outputs": [
    {
     "name": "stdout",
     "output_type": "stream",
     "text": [
      "even 34\n",
      "even 66\n",
      "odd 43\n",
      "odd 23\n",
      "odd 27\n",
      "even 88\n",
      "even 74\n",
      "even 16\n"
     ]
    }
   ],
   "source": [
    "l = [34,66,43,23,27,88,74,16]\n",
    "for i in l:\n",
    "    if i%2==0:\n",
    "        print(\"even\",i)\n",
    "    else:\n",
    "        print(\"odd\",i)"
   ]
  },
  {
   "cell_type": "code",
   "execution_count": 20,
   "id": "a9973daf-9a62-4ff1-86d7-07253b8ca25e",
   "metadata": {},
   "outputs": [
    {
     "data": {
      "text/plain": [
       "[[1, 2, 3], [4, 5, 6, 7, 8, 9], [7, 8, 9]]"
      ]
     },
     "execution_count": 20,
     "metadata": {},
     "output_type": "execute_result"
    }
   ],
   "source": [
    "lst_1=[1,2,3]\n",
    "lst_2=[4,5,6,7,8,9]\n",
    "lst_3=[7,8,9]\n",
    "matrix = [lst_1,lst_2,lst_3]\n",
    "matrix"
   ]
  },
  {
   "cell_type": "code",
   "execution_count": 21,
   "id": "81f3bf9c-3772-4a6d-bc6a-f875b015344f",
   "metadata": {},
   "outputs": [
    {
     "name": "stdout",
     "output_type": "stream",
     "text": [
      "[1, 2, 3]\n",
      "[4, 5, 6, 7, 8, 9]\n",
      "[7, 8, 9]\n"
     ]
    }
   ],
   "source": [
    "for i in matrix:\n",
    "    print(i)"
   ]
  },
  {
   "cell_type": "code",
   "execution_count": 25,
   "id": "de2daadc-4805-4887-ae68-ea0dec2dae9a",
   "metadata": {},
   "outputs": [
    {
     "name": "stdout",
     "output_type": "stream",
     "text": [
      "1\n",
      "4\n",
      "7\n"
     ]
    }
   ],
   "source": [
    "for i in matrix:\n",
    "    print(i[0])"
   ]
  },
  {
   "cell_type": "code",
   "execution_count": 28,
   "id": "9e997309-2852-460e-bfad-0f68a4bd0b32",
   "metadata": {},
   "outputs": [
    {
     "name": "stdout",
     "output_type": "stream",
     "text": [
      "[1, 4, 7]\n"
     ]
    }
   ],
   "source": [
    "x=[]                                                                             #traditional method\n",
    "for i in matrix:\n",
    "    #print(i[0])\n",
    "    x.append(i[0])\n",
    "print(x)"
   ]
  },
  {
   "cell_type": "code",
   "execution_count": 29,
   "id": "4b319cfd-3989-43a5-8a40-4ebf831c532d",
   "metadata": {},
   "outputs": [
    {
     "data": {
      "text/plain": [
       "[1, 4, 7]"
      ]
     },
     "execution_count": 29,
     "metadata": {},
     "output_type": "execute_result"
    }
   ],
   "source": [
    "[i[0] for i in matrix]"
   ]
  },
  {
   "cell_type": "code",
   "execution_count": 31,
   "id": "cb9d94df-2b38-471e-960b-664ca067c4e6",
   "metadata": {},
   "outputs": [],
   "source": [
    "words=[\"Trisha\",\"Deepka\",\"Pooja\",\"Aliya\"]"
   ]
  },
  {
   "cell_type": "code",
   "execution_count": 32,
   "id": "90f9d0b7-6a47-4279-abd3-e051ea18be27",
   "metadata": {},
   "outputs": [
    {
     "data": {
      "text/plain": [
       "['T', 'D', 'P', 'A']"
      ]
     },
     "execution_count": 32,
     "metadata": {},
     "output_type": "execute_result"
    }
   ],
   "source": [
    "[i[0] for i in words]"
   ]
  },
  {
   "cell_type": "markdown",
   "id": "43f5ad3f-8c02-44e3-89e9-968ec5346482",
   "metadata": {},
   "source": [
    "# NESTED FOR LOOP"
   ]
  },
  {
   "cell_type": "code",
   "execution_count": 35,
   "id": "34d85165-39df-484a-b6ba-2f161c33ea9a",
   "metadata": {},
   "outputs": [
    {
     "name": "stdout",
     "output_type": "stream",
     "text": [
      "First loop start\n",
      "1\n",
      "2\n",
      "3\n",
      "First loop end\n",
      "First loop start\n",
      "4\n",
      "5\n",
      "6\n",
      "7\n",
      "8\n",
      "9\n",
      "First loop end\n",
      "First loop start\n",
      "7\n",
      "8\n",
      "9\n",
      "First loop end\n",
      "loop end\n"
     ]
    }
   ],
   "source": [
    "for i in matrix:\n",
    "    print('First loop start')\n",
    "    for jam in i:\n",
    "        print(jam)\n",
    "    print('First loop end')   \n",
    "print('loop end')    "
   ]
  },
  {
   "cell_type": "code",
   "execution_count": 36,
   "id": "ce1fe148-97f6-4616-90f1-27febe0db297",
   "metadata": {},
   "outputs": [
    {
     "data": {
      "text/plain": [
       "[2, 4, 6, 8]"
      ]
     },
     "execution_count": 36,
     "metadata": {},
     "output_type": "execute_result"
    }
   ],
   "source": [
    "[x for x in range(1,10) if x % 2 == 0]"
   ]
  },
  {
   "cell_type": "code",
   "execution_count": 37,
   "id": "1a07f20e-d28e-46b7-a244-d15dbe72eb7f",
   "metadata": {},
   "outputs": [
    {
     "data": {
      "text/plain": [
       "[1, 3, 5, 7, 9]"
      ]
     },
     "execution_count": 37,
     "metadata": {},
     "output_type": "execute_result"
    }
   ],
   "source": [
    "[x for x in range(1,10) if x % 2 != 0]"
   ]
  },
  {
   "cell_type": "markdown",
   "id": "b989298f-e219-4a90-b466-bb575a894a87",
   "metadata": {},
   "source": [
    "# pass"
   ]
  }
 ],
 "metadata": {
  "kernelspec": {
   "display_name": "Python 3 (ipykernel)",
   "language": "python",
   "name": "python3"
  },
  "language_info": {
   "codemirror_mode": {
    "name": "ipython",
    "version": 3
   },
   "file_extension": ".py",
   "mimetype": "text/x-python",
   "name": "python",
   "nbconvert_exporter": "python",
   "pygments_lexer": "ipython3",
   "version": "3.13.5"
  }
 },
 "nbformat": 4,
 "nbformat_minor": 5
}
